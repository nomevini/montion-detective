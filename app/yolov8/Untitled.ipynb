{
 "cells": [
  {
   "cell_type": "code",
   "execution_count": 1,
   "id": "f0c36465",
   "metadata": {},
   "outputs": [
    {
     "name": "stdout",
     "output_type": "stream",
     "text": [
      "Requirement already satisfied: opencv-python in /home/nomevini/anaconda3/envs/tracking_people_in_videos/lib/python3.10/site-packages (4.7.0.72)\n",
      "Requirement already satisfied: numpy>=1.17.3 in /home/nomevini/anaconda3/envs/tracking_people_in_videos/lib/python3.10/site-packages (from opencv-python) (1.23.5)\n",
      "Note: you may need to restart the kernel to use updated packages.\n"
     ]
    }
   ],
   "source": [
    "pip install opencv-python"
   ]
  },
  {
   "cell_type": "code",
   "execution_count": null,
   "id": "57e42c78",
   "metadata": {},
   "outputs": [],
   "source": []
  },
  {
   "cell_type": "code",
   "execution_count": 10,
   "id": "2b4ca711",
   "metadata": {},
   "outputs": [],
   "source": [
    "import cv2\n",
    "\n",
    "from ultralytics import YOLO\n",
    "import supervision as sv\n",
    "import numpy as np\n",
    "\n",
    "LINE_START = sv.Point(320, 0)\n",
    "LINE_END = sv.Point(320, 480)\n",
    "\n",
    "def main():\n",
    "\n",
    "    box_annotator = sv.BoxAnnotator(\n",
    "        thickness=2,\n",
    "        text_thickness=1,\n",
    "        text_scale=0.5\n",
    "    )\n",
    "\n",
    "    model = YOLO(\"yolov8n.pt\")\n",
    "\n",
    "    # Abre o vídeo de entrada e obtem as configurações\n",
    "    input_video = cv2.VideoCapture('/home/nomevini/Documentos/Iniciação Cientifica/Projeto/tracking_people_in_videos/yolov8/pedestrian_cut_640x360_reduzido.mp4')\n",
    "    fps = input_video.get(cv2.CAP_PROP_FPS)\n",
    "    width = int(input_video.get(cv2.CAP_PROP_FRAME_WIDTH))\n",
    "    height = int(input_video.get(cv2.CAP_PROP_FRAME_HEIGHT))\n",
    "\n",
    "    # Define o codec e as configurações do vídeo de saída\n",
    "    fourcc = cv2.VideoWriter_fourcc(*'mp4v')\n",
    "    output_video = cv2.VideoWriter('output.mp4', fourcc, fps, (width, height))\n",
    "\n",
    "    for result in model.track(source=\"/home/nomevini/Documentos/Iniciação Cientifica/Projeto/tracking_people_in_videos/yolov8/pedestrian_cut_640x360_reduzido.mp4\", stream=True, agnostic_nms=True, classes=[0]):\n",
    "        frame = result.orig_img\n",
    "        detections = sv.Detections.from_yolov8(result)\n",
    "\n",
    "        if result.boxes.id is not None:\n",
    "            detections.tracker_id = result.boxes.id.cpu().numpy().astype(int)\n",
    "        \n",
    "        detections = detections[(detections.class_id == 0)]\n",
    "\n",
    "        labels = [\n",
    "            f\"{tracker_id} {model.model.names[class_id]} {confidence:0.2f}\"\n",
    "            for _, confidence, class_id, tracker_id\n",
    "            in detections\n",
    "        ]\n",
    "\n",
    "        frame = box_annotator.annotate(\n",
    "            scene=frame, \n",
    "            detections=detections,\n",
    "            labels=labels\n",
    "        )\n",
    "\n",
    "        # Escreve o quadro processado no arquivo de vídeo de saída\n",
    "        output_video.write(frame)\n",
    "\n",
    "        cv2.imshow(\"yolov8\", frame)\n",
    "\n",
    "        if (cv2.waitKey(30) == 27):\n",
    "            break\n",
    "\n",
    "    # Libera os objetos do vídeo e fecha a janela\n",
    "    input_video.release()\n",
    "    output_video.release()\n",
    "    cv2.destroyAllWindows()"
   ]
  },
  {
   "cell_type": "code",
   "execution_count": 14,
   "id": "db01d60a",
   "metadata": {},
   "outputs": [
    {
     "name": "stderr",
     "output_type": "stream",
     "text": [
      "\n",
      "video 1/1 (1/50) /home/nomevini/Documentos/Iniciação Cientifica/Projeto/tracking_people_in_videos/yolov8/pedestrian_cut_640x360_reduzido.mp4: 384x640 4 persons, 101.6ms\n",
      "video 1/1 (2/50) /home/nomevini/Documentos/Iniciação Cientifica/Projeto/tracking_people_in_videos/yolov8/pedestrian_cut_640x360_reduzido.mp4: 384x640 4 persons, 178.2ms\n",
      "video 1/1 (3/50) /home/nomevini/Documentos/Iniciação Cientifica/Projeto/tracking_people_in_videos/yolov8/pedestrian_cut_640x360_reduzido.mp4: 384x640 4 persons, 134.9ms\n",
      "video 1/1 (4/50) /home/nomevini/Documentos/Iniciação Cientifica/Projeto/tracking_people_in_videos/yolov8/pedestrian_cut_640x360_reduzido.mp4: 384x640 4 persons, 163.1ms\n",
      "video 1/1 (5/50) /home/nomevini/Documentos/Iniciação Cientifica/Projeto/tracking_people_in_videos/yolov8/pedestrian_cut_640x360_reduzido.mp4: 384x640 4 persons, 171.9ms\n",
      "video 1/1 (6/50) /home/nomevini/Documentos/Iniciação Cientifica/Projeto/tracking_people_in_videos/yolov8/pedestrian_cut_640x360_reduzido.mp4: 384x640 4 persons, 212.6ms\n",
      "video 1/1 (7/50) /home/nomevini/Documentos/Iniciação Cientifica/Projeto/tracking_people_in_videos/yolov8/pedestrian_cut_640x360_reduzido.mp4: 384x640 4 persons, 189.3ms\n",
      "video 1/1 (8/50) /home/nomevini/Documentos/Iniciação Cientifica/Projeto/tracking_people_in_videos/yolov8/pedestrian_cut_640x360_reduzido.mp4: 384x640 4 persons, 215.4ms\n",
      "video 1/1 (9/50) /home/nomevini/Documentos/Iniciação Cientifica/Projeto/tracking_people_in_videos/yolov8/pedestrian_cut_640x360_reduzido.mp4: 384x640 4 persons, 233.6ms\n",
      "video 1/1 (10/50) /home/nomevini/Documentos/Iniciação Cientifica/Projeto/tracking_people_in_videos/yolov8/pedestrian_cut_640x360_reduzido.mp4: 384x640 4 persons, 245.8ms\n",
      "video 1/1 (11/50) /home/nomevini/Documentos/Iniciação Cientifica/Projeto/tracking_people_in_videos/yolov8/pedestrian_cut_640x360_reduzido.mp4: 384x640 4 persons, 149.9ms\n",
      "video 1/1 (12/50) /home/nomevini/Documentos/Iniciação Cientifica/Projeto/tracking_people_in_videos/yolov8/pedestrian_cut_640x360_reduzido.mp4: 384x640 5 persons, 194.1ms\n",
      "video 1/1 (13/50) /home/nomevini/Documentos/Iniciação Cientifica/Projeto/tracking_people_in_videos/yolov8/pedestrian_cut_640x360_reduzido.mp4: 384x640 5 persons, 231.2ms\n",
      "video 1/1 (14/50) /home/nomevini/Documentos/Iniciação Cientifica/Projeto/tracking_people_in_videos/yolov8/pedestrian_cut_640x360_reduzido.mp4: 384x640 5 persons, 203.1ms\n",
      "video 1/1 (15/50) /home/nomevini/Documentos/Iniciação Cientifica/Projeto/tracking_people_in_videos/yolov8/pedestrian_cut_640x360_reduzido.mp4: 384x640 5 persons, 177.4ms\n",
      "video 1/1 (16/50) /home/nomevini/Documentos/Iniciação Cientifica/Projeto/tracking_people_in_videos/yolov8/pedestrian_cut_640x360_reduzido.mp4: 384x640 5 persons, 126.6ms\n",
      "video 1/1 (17/50) /home/nomevini/Documentos/Iniciação Cientifica/Projeto/tracking_people_in_videos/yolov8/pedestrian_cut_640x360_reduzido.mp4: 384x640 5 persons, 171.4ms\n",
      "video 1/1 (18/50) /home/nomevini/Documentos/Iniciação Cientifica/Projeto/tracking_people_in_videos/yolov8/pedestrian_cut_640x360_reduzido.mp4: 384x640 5 persons, 273.4ms\n",
      "video 1/1 (19/50) /home/nomevini/Documentos/Iniciação Cientifica/Projeto/tracking_people_in_videos/yolov8/pedestrian_cut_640x360_reduzido.mp4: 384x640 5 persons, 199.4ms\n",
      "video 1/1 (20/50) /home/nomevini/Documentos/Iniciação Cientifica/Projeto/tracking_people_in_videos/yolov8/pedestrian_cut_640x360_reduzido.mp4: 384x640 5 persons, 118.0ms\n",
      "video 1/1 (21/50) /home/nomevini/Documentos/Iniciação Cientifica/Projeto/tracking_people_in_videos/yolov8/pedestrian_cut_640x360_reduzido.mp4: 384x640 5 persons, 157.4ms\n",
      "video 1/1 (22/50) /home/nomevini/Documentos/Iniciação Cientifica/Projeto/tracking_people_in_videos/yolov8/pedestrian_cut_640x360_reduzido.mp4: 384x640 5 persons, 119.9ms\n",
      "video 1/1 (23/50) /home/nomevini/Documentos/Iniciação Cientifica/Projeto/tracking_people_in_videos/yolov8/pedestrian_cut_640x360_reduzido.mp4: 384x640 4 persons, 116.5ms\n",
      "video 1/1 (24/50) /home/nomevini/Documentos/Iniciação Cientifica/Projeto/tracking_people_in_videos/yolov8/pedestrian_cut_640x360_reduzido.mp4: 384x640 4 persons, 142.2ms\n",
      "video 1/1 (25/50) /home/nomevini/Documentos/Iniciação Cientifica/Projeto/tracking_people_in_videos/yolov8/pedestrian_cut_640x360_reduzido.mp4: 384x640 5 persons, 141.9ms\n",
      "video 1/1 (26/50) /home/nomevini/Documentos/Iniciação Cientifica/Projeto/tracking_people_in_videos/yolov8/pedestrian_cut_640x360_reduzido.mp4: 384x640 5 persons, 154.1ms\n",
      "video 1/1 (27/50) /home/nomevini/Documentos/Iniciação Cientifica/Projeto/tracking_people_in_videos/yolov8/pedestrian_cut_640x360_reduzido.mp4: 384x640 5 persons, 124.2ms\n",
      "video 1/1 (28/50) /home/nomevini/Documentos/Iniciação Cientifica/Projeto/tracking_people_in_videos/yolov8/pedestrian_cut_640x360_reduzido.mp4: 384x640 5 persons, 126.6ms\n",
      "video 1/1 (29/50) /home/nomevini/Documentos/Iniciação Cientifica/Projeto/tracking_people_in_videos/yolov8/pedestrian_cut_640x360_reduzido.mp4: 384x640 5 persons, 164.5ms\n",
      "video 1/1 (30/50) /home/nomevini/Documentos/Iniciação Cientifica/Projeto/tracking_people_in_videos/yolov8/pedestrian_cut_640x360_reduzido.mp4: 384x640 5 persons, 130.3ms\n",
      "video 1/1 (31/50) /home/nomevini/Documentos/Iniciação Cientifica/Projeto/tracking_people_in_videos/yolov8/pedestrian_cut_640x360_reduzido.mp4: 384x640 5 persons, 123.4ms\n",
      "video 1/1 (32/50) /home/nomevini/Documentos/Iniciação Cientifica/Projeto/tracking_people_in_videos/yolov8/pedestrian_cut_640x360_reduzido.mp4: 384x640 6 persons, 134.7ms\n",
      "video 1/1 (33/50) /home/nomevini/Documentos/Iniciação Cientifica/Projeto/tracking_people_in_videos/yolov8/pedestrian_cut_640x360_reduzido.mp4: 384x640 6 persons, 126.2ms\n",
      "video 1/1 (34/50) /home/nomevini/Documentos/Iniciação Cientifica/Projeto/tracking_people_in_videos/yolov8/pedestrian_cut_640x360_reduzido.mp4: 384x640 6 persons, 139.4ms\n",
      "video 1/1 (35/50) /home/nomevini/Documentos/Iniciação Cientifica/Projeto/tracking_people_in_videos/yolov8/pedestrian_cut_640x360_reduzido.mp4: 384x640 6 persons, 128.0ms\n",
      "video 1/1 (36/50) /home/nomevini/Documentos/Iniciação Cientifica/Projeto/tracking_people_in_videos/yolov8/pedestrian_cut_640x360_reduzido.mp4: 384x640 6 persons, 149.8ms\n",
      "video 1/1 (37/50) /home/nomevini/Documentos/Iniciação Cientifica/Projeto/tracking_people_in_videos/yolov8/pedestrian_cut_640x360_reduzido.mp4: 384x640 6 persons, 124.5ms\n",
      "video 1/1 (38/50) /home/nomevini/Documentos/Iniciação Cientifica/Projeto/tracking_people_in_videos/yolov8/pedestrian_cut_640x360_reduzido.mp4: 384x640 6 persons, 148.3ms\n",
      "video 1/1 (39/50) /home/nomevini/Documentos/Iniciação Cientifica/Projeto/tracking_people_in_videos/yolov8/pedestrian_cut_640x360_reduzido.mp4: 384x640 6 persons, 137.7ms\n",
      "video 1/1 (40/50) /home/nomevini/Documentos/Iniciação Cientifica/Projeto/tracking_people_in_videos/yolov8/pedestrian_cut_640x360_reduzido.mp4: 384x640 6 persons, 133.1ms\n",
      "video 1/1 (41/50) /home/nomevini/Documentos/Iniciação Cientifica/Projeto/tracking_people_in_videos/yolov8/pedestrian_cut_640x360_reduzido.mp4: 384x640 6 persons, 129.1ms\n",
      "video 1/1 (42/50) /home/nomevini/Documentos/Iniciação Cientifica/Projeto/tracking_people_in_videos/yolov8/pedestrian_cut_640x360_reduzido.mp4: 384x640 6 persons, 145.8ms\n",
      "video 1/1 (43/50) /home/nomevini/Documentos/Iniciação Cientifica/Projeto/tracking_people_in_videos/yolov8/pedestrian_cut_640x360_reduzido.mp4: 384x640 6 persons, 145.4ms\n",
      "video 1/1 (44/50) /home/nomevini/Documentos/Iniciação Cientifica/Projeto/tracking_people_in_videos/yolov8/pedestrian_cut_640x360_reduzido.mp4: 384x640 6 persons, 127.8ms\n",
      "video 1/1 (45/50) /home/nomevini/Documentos/Iniciação Cientifica/Projeto/tracking_people_in_videos/yolov8/pedestrian_cut_640x360_reduzido.mp4: 384x640 6 persons, 124.7ms\n",
      "video 1/1 (46/50) /home/nomevini/Documentos/Iniciação Cientifica/Projeto/tracking_people_in_videos/yolov8/pedestrian_cut_640x360_reduzido.mp4: 384x640 6 persons, 148.2ms\n",
      "video 1/1 (47/50) /home/nomevini/Documentos/Iniciação Cientifica/Projeto/tracking_people_in_videos/yolov8/pedestrian_cut_640x360_reduzido.mp4: 384x640 5 persons, 123.8ms\n",
      "video 1/1 (48/50) /home/nomevini/Documentos/Iniciação Cientifica/Projeto/tracking_people_in_videos/yolov8/pedestrian_cut_640x360_reduzido.mp4: 384x640 4 persons, 123.5ms\n",
      "video 1/1 (49/50) /home/nomevini/Documentos/Iniciação Cientifica/Projeto/tracking_people_in_videos/yolov8/pedestrian_cut_640x360_reduzido.mp4: 384x640 4 persons, 130.6ms\n"
     ]
    },
    {
     "name": "stderr",
     "output_type": "stream",
     "text": [
      "video 1/1 (50/50) /home/nomevini/Documentos/Iniciação Cientifica/Projeto/tracking_people_in_videos/yolov8/pedestrian_cut_640x360_reduzido.mp4: 384x640 4 persons, 131.2ms\n",
      "Speed: 2.0ms preprocess, 154.9ms inference, 1.5ms postprocess per image at shape (1, 3, 640, 640)\n"
     ]
    }
   ],
   "source": [
    "main()"
   ]
  }
 ],
 "metadata": {
  "kernelspec": {
   "display_name": "Python 3 (ipykernel)",
   "language": "python",
   "name": "python3"
  },
  "language_info": {
   "codemirror_mode": {
    "name": "ipython",
    "version": 3
   },
   "file_extension": ".py",
   "mimetype": "text/x-python",
   "name": "python",
   "nbconvert_exporter": "python",
   "pygments_lexer": "ipython3",
   "version": "3.10.10"
  }
 },
 "nbformat": 4,
 "nbformat_minor": 5
}
